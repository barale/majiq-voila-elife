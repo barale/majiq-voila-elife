{
 "cells": [
  {
   "cell_type": "code",
   "execution_count": 1,
   "metadata": {
    "collapsed": false
   },
   "outputs": [],
   "source": [
    "import matplotlib\n",
    "%matplotlib inline\n",
    "import sys\n",
    "from __future__ import division\n",
    "from collections import defaultdict\n",
    "from pylab import *\n",
    "from itertools import izip\n",
    "import colorbrewer as cb\n",
    "import os\n",
    "from scripts import utils as sutils\n",
    "import cPickle as pickle\n",
    "import colorbrewer as cb\n",
    "from matplotlib import pyplot as plt\n",
    "import pandas as pnd"
   ]
  },
  {
   "cell_type": "code",
   "execution_count": 2,
   "metadata": {
    "collapsed": true
   },
   "outputs": [],
   "source": [
    "PLOTPATH = 'plots/fig3/'"
   ]
  },
  {
   "cell_type": "code",
   "execution_count": 3,
   "metadata": {
    "collapsed": false
   },
   "outputs": [],
   "source": [
    "data_anno = pnd.read_csv('../data/fig3/ratios_anno.txt', sep='\\t')\n",
    "data_rna = pnd.read_csv('../data/fig3/ratios_rna.txt', sep='\\t')"
   ]
  },
  {
   "cell_type": "markdown",
   "metadata": {},
   "source": [
    "#####Breakdown of LSV total numbers - RNA + annotation"
   ]
  },
  {
   "cell_type": "code",
   "execution_count": 4,
   "metadata": {
    "collapsed": false
   },
   "outputs": [
    {
     "data": {
      "text/html": [
       "<div style=\"max-height:1000px;max-width:1500px;overflow:auto;\">\n",
       "<table border=\"1\" class=\"dataframe\">\n",
       "  <thead>\n",
       "    <tr style=\"text-align: right;\">\n",
       "      <th></th>\n",
       "      <th>species</th>\n",
       "      <th>num_lsvs</th>\n",
       "      <th>num_complex</th>\n",
       "      <th>ratio_complex</th>\n",
       "      <th>exonic_classical</th>\n",
       "      <th>exonic_non-classical_binary</th>\n",
       "      <th>exonic_non-classical_complex</th>\n",
       "      <th>intronic-classical_binary</th>\n",
       "      <th>intronic_non-classical_binary</th>\n",
       "      <th>intronic_non-classical_complex</th>\n",
       "    </tr>\n",
       "  </thead>\n",
       "  <tbody>\n",
       "    <tr>\n",
       "      <th>3</th>\n",
       "      <td>                  Lizard</td>\n",
       "      <td> 12686</td>\n",
       "      <td>  2488</td>\n",
       "      <td> 19.61</td>\n",
       "      <td>  5579</td>\n",
       "      <td>  3796</td>\n",
       "      <td>  2296</td>\n",
       "      <td>   689</td>\n",
       "      <td>  134</td>\n",
       "      <td>   192</td>\n",
       "    </tr>\n",
       "    <tr>\n",
       "      <th>0</th>\n",
       "      <td>                 Chicken</td>\n",
       "      <td> 19457</td>\n",
       "      <td>  3104</td>\n",
       "      <td> 15.95</td>\n",
       "      <td>  9598</td>\n",
       "      <td>  4670</td>\n",
       "      <td>  2596</td>\n",
       "      <td>  1926</td>\n",
       "      <td>  159</td>\n",
       "      <td>   508</td>\n",
       "    </tr>\n",
       "    <tr>\n",
       "      <th>2</th>\n",
       "      <td>                 Opossum</td>\n",
       "      <td> 10618</td>\n",
       "      <td>  1033</td>\n",
       "      <td>  9.73</td>\n",
       "      <td>  6060</td>\n",
       "      <td>  2744</td>\n",
       "      <td>   955</td>\n",
       "      <td>   745</td>\n",
       "      <td>   36</td>\n",
       "      <td>    78</td>\n",
       "    </tr>\n",
       "    <tr>\n",
       "      <th>6</th>\n",
       "      <td>           ensembl_mouse</td>\n",
       "      <td> 53115</td>\n",
       "      <td> 14497</td>\n",
       "      <td> 27.29</td>\n",
       "      <td> 18075</td>\n",
       "      <td> 13867</td>\n",
       "      <td> 11663</td>\n",
       "      <td>  4605</td>\n",
       "      <td> 2071</td>\n",
       "      <td>  2834</td>\n",
       "    </tr>\n",
       "    <tr>\n",
       "      <th>8</th>\n",
       "      <td> ensembl_mouse_12tis8rep</td>\n",
       "      <td> 99063</td>\n",
       "      <td> 30674</td>\n",
       "      <td> 30.96</td>\n",
       "      <td> 20619</td>\n",
       "      <td> 13996</td>\n",
       "      <td> 12689</td>\n",
       "      <td> 23845</td>\n",
       "      <td> 9929</td>\n",
       "      <td> 17985</td>\n",
       "    </tr>\n",
       "    <tr>\n",
       "      <th>1</th>\n",
       "      <td>                   Chimp</td>\n",
       "      <td> 12199</td>\n",
       "      <td>  1398</td>\n",
       "      <td> 11.46</td>\n",
       "      <td>  8024</td>\n",
       "      <td>  2147</td>\n",
       "      <td>  1260</td>\n",
       "      <td>   578</td>\n",
       "      <td>   52</td>\n",
       "      <td>   138</td>\n",
       "    </tr>\n",
       "    <tr>\n",
       "      <th>4</th>\n",
       "      <td>           ensembl_human</td>\n",
       "      <td> 80167</td>\n",
       "      <td> 29716</td>\n",
       "      <td> 37.07</td>\n",
       "      <td> 16076</td>\n",
       "      <td> 31278</td>\n",
       "      <td> 28178</td>\n",
       "      <td>  1359</td>\n",
       "      <td> 1738</td>\n",
       "      <td>  1538</td>\n",
       "    </tr>\n",
       "    <tr>\n",
       "      <th>7</th>\n",
       "      <td>            refseq_mouse</td>\n",
       "      <td> 37835</td>\n",
       "      <td>  8685</td>\n",
       "      <td> 22.95</td>\n",
       "      <td> 18233</td>\n",
       "      <td>  5142</td>\n",
       "      <td>  6584</td>\n",
       "      <td>  5555</td>\n",
       "      <td>  220</td>\n",
       "      <td>  2101</td>\n",
       "    </tr>\n",
       "    <tr>\n",
       "      <th>5</th>\n",
       "      <td>            refseq_human</td>\n",
       "      <td> 55709</td>\n",
       "      <td> 16451</td>\n",
       "      <td> 29.53</td>\n",
       "      <td> 18429</td>\n",
       "      <td> 19702</td>\n",
       "      <td> 15723</td>\n",
       "      <td>   907</td>\n",
       "      <td>  220</td>\n",
       "      <td>   728</td>\n",
       "    </tr>\n",
       "  </tbody>\n",
       "</table>\n",
       "</div>"
      ],
      "text/plain": [
       "                   species  num_lsvs  num_complex  ratio_complex  \\\n",
       "3                   Lizard     12686         2488          19.61   \n",
       "0                  Chicken     19457         3104          15.95   \n",
       "2                  Opossum     10618         1033           9.73   \n",
       "6            ensembl_mouse     53115        14497          27.29   \n",
       "8  ensembl_mouse_12tis8rep     99063        30674          30.96   \n",
       "1                    Chimp     12199         1398          11.46   \n",
       "4            ensembl_human     80167        29716          37.07   \n",
       "7             refseq_mouse     37835         8685          22.95   \n",
       "5             refseq_human     55709        16451          29.53   \n",
       "\n",
       "   exonic_classical  exonic_non-classical_binary  \\\n",
       "3              5579                         3796   \n",
       "0              9598                         4670   \n",
       "2              6060                         2744   \n",
       "6             18075                        13867   \n",
       "8             20619                        13996   \n",
       "1              8024                         2147   \n",
       "4             16076                        31278   \n",
       "7             18233                         5142   \n",
       "5             18429                        19702   \n",
       "\n",
       "   exonic_non-classical_complex  intronic-classical_binary  \\\n",
       "3                          2296                        689   \n",
       "0                          2596                       1926   \n",
       "2                           955                        745   \n",
       "6                         11663                       4605   \n",
       "8                         12689                      23845   \n",
       "1                          1260                        578   \n",
       "4                         28178                       1359   \n",
       "7                          6584                       5555   \n",
       "5                         15723                        907   \n",
       "\n",
       "   intronic_non-classical_binary  intronic_non-classical_complex  \n",
       "3                            134                             192  \n",
       "0                            159                             508  \n",
       "2                             36                              78  \n",
       "6                           2071                            2834  \n",
       "8                           9929                           17985  \n",
       "1                             52                             138  \n",
       "4                           1738                            1538  \n",
       "7                            220                            2101  \n",
       "5                            220                             728  "
      ]
     },
     "execution_count": 4,
     "metadata": {},
     "output_type": "execute_result"
    }
   ],
   "source": [
    "names_rna = ['Lizard', 'Chicken', 'Opossum', 'ensembl_mouse', 'ensembl_mouse_12tis8rep', 'Chimp', 'ensembl_human', 'refseq_mouse', 'refseq_human']\n",
    "data_rna_sorted = data_rna.reindex([list(data_rna.species).index(a) for a in names_rna]).iloc[:-2, :]\n",
    "data_rna.reindex([list(data_rna.species).index(a) for a in names_rna])"
   ]
  },
  {
   "cell_type": "markdown",
   "metadata": {},
   "source": [
    "#####Breakdown of LSV total numbers - Only annotation"
   ]
  },
  {
   "cell_type": "code",
   "execution_count": 5,
   "metadata": {
    "collapsed": false
   },
   "outputs": [
    {
     "data": {
      "text/html": [
       "<div style=\"max-height:1000px;max-width:1500px;overflow:auto;\">\n",
       "<table border=\"1\" class=\"dataframe\">\n",
       "  <thead>\n",
       "    <tr style=\"text-align: right;\">\n",
       "      <th></th>\n",
       "      <th>species</th>\n",
       "      <th>num_lsvs</th>\n",
       "      <th>num_complex</th>\n",
       "      <th>ratio_complex</th>\n",
       "      <th>exonic_classical</th>\n",
       "      <th>exonic_non-classical_binary</th>\n",
       "      <th>exonic_non-classical_complex</th>\n",
       "      <th>intronic-classical_binary</th>\n",
       "      <th>intronic_non-classical_binary</th>\n",
       "      <th>intronic_non-classical_complex</th>\n",
       "    </tr>\n",
       "  </thead>\n",
       "  <tbody>\n",
       "    <tr>\n",
       "      <th>3</th>\n",
       "      <td>        Lizard</td>\n",
       "      <td>   803</td>\n",
       "      <td>     0</td>\n",
       "      <td>  0.00</td>\n",
       "      <td>   380</td>\n",
       "      <td>   263</td>\n",
       "      <td>     0</td>\n",
       "      <td>  160</td>\n",
       "      <td>    0</td>\n",
       "      <td>    0</td>\n",
       "    </tr>\n",
       "    <tr>\n",
       "      <th>0</th>\n",
       "      <td>       Chicken</td>\n",
       "      <td>  1510</td>\n",
       "      <td>    43</td>\n",
       "      <td>  2.85</td>\n",
       "      <td>   833</td>\n",
       "      <td>   309</td>\n",
       "      <td>    43</td>\n",
       "      <td>  320</td>\n",
       "      <td>    5</td>\n",
       "      <td>    0</td>\n",
       "    </tr>\n",
       "    <tr>\n",
       "      <th>2</th>\n",
       "      <td>       Opossum</td>\n",
       "      <td>  2032</td>\n",
       "      <td>    30</td>\n",
       "      <td>  1.48</td>\n",
       "      <td>   793</td>\n",
       "      <td>   785</td>\n",
       "      <td>    30</td>\n",
       "      <td>  424</td>\n",
       "      <td>    0</td>\n",
       "      <td>    0</td>\n",
       "    </tr>\n",
       "    <tr>\n",
       "      <th>6</th>\n",
       "      <td> ensembl_Mouse</td>\n",
       "      <td> 48372</td>\n",
       "      <td> 10275</td>\n",
       "      <td> 21.24</td>\n",
       "      <td> 18172</td>\n",
       "      <td> 12702</td>\n",
       "      <td>  8339</td>\n",
       "      <td> 5365</td>\n",
       "      <td> 1858</td>\n",
       "      <td> 1936</td>\n",
       "    </tr>\n",
       "    <tr>\n",
       "      <th>6</th>\n",
       "      <td> ensembl_Mouse</td>\n",
       "      <td> 48372</td>\n",
       "      <td> 10275</td>\n",
       "      <td> 21.24</td>\n",
       "      <td> 18172</td>\n",
       "      <td> 12702</td>\n",
       "      <td>  8339</td>\n",
       "      <td> 5365</td>\n",
       "      <td> 1858</td>\n",
       "      <td> 1936</td>\n",
       "    </tr>\n",
       "    <tr>\n",
       "      <th>1</th>\n",
       "      <td>         Chimp</td>\n",
       "      <td>  1814</td>\n",
       "      <td>    51</td>\n",
       "      <td>  2.81</td>\n",
       "      <td>   948</td>\n",
       "      <td>   334</td>\n",
       "      <td>    49</td>\n",
       "      <td>  471</td>\n",
       "      <td>   10</td>\n",
       "      <td>    2</td>\n",
       "    </tr>\n",
       "    <tr>\n",
       "      <th>4</th>\n",
       "      <td> ensembl_Human</td>\n",
       "      <td> 98994</td>\n",
       "      <td> 27062</td>\n",
       "      <td> 27.34</td>\n",
       "      <td> 30849</td>\n",
       "      <td> 28838</td>\n",
       "      <td> 23516</td>\n",
       "      <td> 8348</td>\n",
       "      <td> 3897</td>\n",
       "      <td> 3546</td>\n",
       "    </tr>\n",
       "    <tr>\n",
       "      <th>7</th>\n",
       "      <td>  refseq_Mouse</td>\n",
       "      <td> 11115</td>\n",
       "      <td>  1640</td>\n",
       "      <td> 14.75</td>\n",
       "      <td>  7542</td>\n",
       "      <td>  1283</td>\n",
       "      <td>  1476</td>\n",
       "      <td>  636</td>\n",
       "      <td>   14</td>\n",
       "      <td>  164</td>\n",
       "    </tr>\n",
       "    <tr>\n",
       "      <th>5</th>\n",
       "      <td>  refseq_Human</td>\n",
       "      <td> 28251</td>\n",
       "      <td>  5444</td>\n",
       "      <td> 19.27</td>\n",
       "      <td> 18365</td>\n",
       "      <td>  2869</td>\n",
       "      <td>  5005</td>\n",
       "      <td> 1508</td>\n",
       "      <td>   65</td>\n",
       "      <td>  439</td>\n",
       "    </tr>\n",
       "  </tbody>\n",
       "</table>\n",
       "</div>"
      ],
      "text/plain": [
       "         species  num_lsvs  num_complex  ratio_complex  exonic_classical  \\\n",
       "3         Lizard       803            0           0.00               380   \n",
       "0        Chicken      1510           43           2.85               833   \n",
       "2        Opossum      2032           30           1.48               793   \n",
       "6  ensembl_Mouse     48372        10275          21.24             18172   \n",
       "6  ensembl_Mouse     48372        10275          21.24             18172   \n",
       "1          Chimp      1814           51           2.81               948   \n",
       "4  ensembl_Human     98994        27062          27.34             30849   \n",
       "7   refseq_Mouse     11115         1640          14.75              7542   \n",
       "5   refseq_Human     28251         5444          19.27             18365   \n",
       "\n",
       "   exonic_non-classical_binary  exonic_non-classical_complex  \\\n",
       "3                          263                             0   \n",
       "0                          309                            43   \n",
       "2                          785                            30   \n",
       "6                        12702                          8339   \n",
       "6                        12702                          8339   \n",
       "1                          334                            49   \n",
       "4                        28838                         23516   \n",
       "7                         1283                          1476   \n",
       "5                         2869                          5005   \n",
       "\n",
       "   intronic-classical_binary  intronic_non-classical_binary  \\\n",
       "3                        160                              0   \n",
       "0                        320                              5   \n",
       "2                        424                              0   \n",
       "6                       5365                           1858   \n",
       "6                       5365                           1858   \n",
       "1                        471                             10   \n",
       "4                       8348                           3897   \n",
       "7                        636                             14   \n",
       "5                       1508                             65   \n",
       "\n",
       "   intronic_non-classical_complex  \n",
       "3                               0  \n",
       "0                               0  \n",
       "2                               0  \n",
       "6                            1936  \n",
       "6                            1936  \n",
       "1                               2  \n",
       "4                            3546  \n",
       "7                             164  \n",
       "5                             439  "
      ]
     },
     "execution_count": 5,
     "metadata": {},
     "output_type": "execute_result"
    }
   ],
   "source": [
    "names_anno = ['Lizard', 'Chicken', 'Opossum', 'ensembl_Mouse', 'ensembl_Mouse', 'Chimp', 'ensembl_Human', 'refseq_Mouse', 'refseq_Human']\n",
    "data_anno_sorted = data_anno.reindex([list(data_anno.species).index(a) for a in names_anno]).iloc[:-2, :]\n",
    "data_anno.reindex([list(data_anno.species).index(a) for a in names_anno])"
   ]
  },
  {
   "cell_type": "markdown",
   "metadata": {},
   "source": [
    "### Figure 3A (top)"
   ]
  },
  {
   "cell_type": "code",
   "execution_count": 6,
   "metadata": {
    "collapsed": false
   },
   "outputs": [
    {
     "data": {
      "image/png": "[encoded data removed]",
      "text/plain": [
       "<matplotlib.figure.Figure at 0x4e19c90>"
      ]
     },
     "metadata": {},
     "output_type": "display_data"
    }
   ],
   "source": [
    "fig, ax1 = plt.subplots(figsize=[7, 4])\n",
    "\n",
    "color_ns = '#9e9e9e' #'#%02x%02x%02x' % cb.Greys[6][1]\n",
    "color_ns_rna = '#FF0000'#'#%02x%02x%02x' % cb.Greys[6][3]\n",
    "\n",
    "names_anno = ['Lizard', 'Chicken', 'Opossum', 'Mouse', 'Mouse*', 'Chimp', 'Human']\n",
    "\n",
    "anno_rna_ns   = data_rna_sorted.num_complex\n",
    "anno_ns   = data_anno_sorted.num_complex\n",
    "\n",
    "ind = np.arange(len(anno_ns))    # the x locations for the groups\n",
    "width = .4       # the width of the bars: can also be len(x) sequence\n",
    "\n",
    "p1 = ax1.bar(ind, anno_ns, width, color='#D1D1D1', edgecolor=color_ns, linewidth=1) # , edgecolor = \"none\"\n",
    "p2 = ax1.bar(ind+width, anno_rna_ns,  width, color='#FF6666', edgecolor=color_ns_rna, linewidth=1)\n",
    "\n",
    "ax1.set_ylabel('Number of Complex LSVs', size=16)\n",
    "ax1.set_ylim(0, max(anno_rna_ns)+5000)\n",
    "plt.title('LSVs complexity by species', size=20)\n",
    "plt.xticks(ind+width, names_anno, size=12)\n",
    "plt.legend( (p1[0], p2[0]), ('Only DB', 'DB + RNA'), loc=2)\n",
    "\n",
    "# plt.savefig(\"%s/figure3A_top.pdf\"% PLOTPATH, width=300, height=300, dpi=200)\n",
    "# plt.clf()\n",
    "plt.show()"
   ]
  },
  {
   "cell_type": "markdown",
   "metadata": {},
   "source": [
    "### Figure 3A (bottom)"
   ]
  },
  {
   "cell_type": "code",
   "execution_count": 7,
   "metadata": {
    "collapsed": false
   },
   "outputs": [
    {
     "data": {
      "image/png": "[encoded data removed]",
      "text/plain": [
       "<matplotlib.figure.Figure at 0x4ebb090>"
      ]
     },
     "metadata": {},
     "output_type": "display_data"
    }
   ],
   "source": [
    "fig, ax1 = plt.subplots(figsize=[7, 4])\n",
    "\n",
    "color_perc = '#9e9e9e' #'#%02x%02x%02x' % cb.Greys[6][1]\n",
    "color_perc_rna = '#ff0000'#'#%02x%02x%02x' % cb.Greys[6][3]\n",
    "\n",
    "names_anno_rna = ['Lizard', 'Chicken', 'Opossum', 'Mouse', 'Mouse*', 'Chimp',  'Human']\n",
    "anno_rna_perc = data_rna_sorted.num_complex/data_rna_sorted.num_lsvs*100\n",
    "anno_perc = data_anno_sorted.num_complex/data_anno_sorted.num_lsvs*100\n",
    "\n",
    "ind = np.arange(len(anno_rna_perc))    # the x locations for the groups\n",
    "width = .4       # the width of the bars: can also be len(x) sequence\n",
    "\n",
    "p1 = ax1.bar(ind, anno_perc, width, color='#D1D1D1', edgecolor=color_perc, linewidth=1)\n",
    "p2 = ax1.bar(ind+width, anno_rna_perc,  width, color='#FF6666', edgecolor=color_perc_rna, linewidth=1)\n",
    "\n",
    "ax1.set_ylabel('% of Complex LSVs', size=16)\n",
    "ax1.set_ylim(0,100)\n",
    "plt.title('LSVs complexity by species', size=20)\n",
    "plt.xticks(ind+width, names_anno_rna, size=12)\n",
    "plt.legend( (p1[0], p2[0]), ('Only DB', 'DB + RNA'), loc=2 )\n",
    "\n",
    "# plt.savefig(\"%s/figure3A_bottom.pdf\"% PLOTPATH, width=300, height=300, dpi=200)\n",
    "# plt.clf()\n",
    "plt.show()"
   ]
  },
  {
   "cell_type": "markdown",
   "metadata": {},
   "source": [
    "### Figure 3B (top)"
   ]
  },
  {
   "cell_type": "code",
   "execution_count": 11,
   "metadata": {
    "collapsed": false
   },
   "outputs": [
    {
     "data": {
      "image/png": "[encoded data removed]",
      "text/plain": [
       "<matplotlib.figure.Figure at 0x577b690>"
      ]
     },
     "metadata": {},
     "output_type": "display_data"
    }
   ],
   "source": [
    "fig, ax1 = plt.subplots(figsize=[7, 4])\n",
    "\n",
    "color_refseq = '#E35A00' #'#%02x%02x%02x' % cb.Greys[6][1]\n",
    "color_ensembl = '#005DB5'#'#%02x%02x%02x' % cb.Greys[6][3]\n",
    "\n",
    "names = ['Mouse DB', 'Mouse RNA+DB', 'Human DB', 'Human DB+RNA']\n",
    "data_ensembl = [data_anno[data_anno.species == 'ensembl_Mouse'].iloc[0],\n",
    "              data_rna[data_rna.species == 'ensembl_mouse'].iloc[0],\n",
    "              data_anno[data_anno.species == 'ensembl_Human'].iloc[0],\n",
    "              data_rna[data_rna.species == 'ensembl_human'].iloc[0]\n",
    "             ]\n",
    "data_refseq = [\n",
    "    data_anno[data_anno.species == 'refseq_Mouse'].iloc[0],\n",
    "    data_rna[data_rna.species == 'refseq_mouse'].iloc[0],\n",
    "    data_anno[data_anno.species == 'refseq_Human'].iloc[0],\n",
    "    data_rna[data_rna.species == 'refseq_human'].iloc[0]\n",
    "]\n",
    "\n",
    "ns_ensembl = [aa['num_complex'] for aa in data_ensembl]\n",
    "ns_refseq = [aa['num_complex'] for aa in data_refseq]\n",
    "\n",
    "ind = np.arange(len(names))    # the x locations for the groups\n",
    "width = .4       # the width of the bars: can also be len(x) sequence\n",
    "\n",
    "p1 = ax1.bar(ind, ns_refseq, width, color='#FF8F33', edgecolor=color_refseq, linewidth=1)\n",
    "p2 = ax1.bar(ind+width, ns_ensembl,  width, color='#3390E8', edgecolor=color_ensembl, linewidth=1)\n",
    "\n",
    "ax1.set_ylabel('Number of complex LSVs', size=16)\n",
    "ax1.set_ylim(0,max(anno_rna_ns)+5000)\n",
    "plt.title('Effect of annotation DB \\non # of complex LSVs ', size=20)\n",
    "plt.xticks(ind+width, names, size=12)\n",
    "plt.legend( (p1[0], p2[0]), ('Refseq', 'Ensembl'), loc=2 )\n",
    "\n",
    "# plt.savefig(\"%s/figure3B_top.pdf\"% PLOTPATH, width=300, height=300, dpi=200)\n",
    "# plt.clf()\n",
    "plt.show()"
   ]
  },
  {
   "cell_type": "markdown",
   "metadata": {},
   "source": [
    "### Figure 3B (bottom)"
   ]
  },
  {
   "cell_type": "code",
   "execution_count": 12,
   "metadata": {
    "collapsed": false
   },
   "outputs": [
    {
     "data": {
      "image/png": "[encoded data removed]",
      "text/plain": [
       "<matplotlib.figure.Figure at 0x57508d0>"
      ]
     },
     "metadata": {},
     "output_type": "display_data"
    }
   ],
   "source": [
    "fig, ax1 = plt.subplots(figsize=[7, 4])\n",
    "\n",
    "# color_refseq = '#%02x%02x%02x' % cb.Greys[6][1]\n",
    "# color_ensembl = '#%02x%02x%02x' % cb.Greys[6][3]\n",
    "\n",
    "names = ['Mouse DB', 'Mouse RNA+DB', 'Human DB', 'Human DB+RNA']\n",
    "percs_ensembl = np.array(ns_ensembl)/np.array([aa['num_lsvs'] for aa in data_ensembl])\n",
    "percs_refseq = np.array(ns_refseq)/np.array([aa['num_lsvs'] for aa in data_refseq])\n",
    "\n",
    "ind = np.arange(len(names))    # the x locations for the groups\n",
    "width = .4       # the width of the bars: can also be len(x) sequence\n",
    "\n",
    "p1 = ax1.bar(ind, percs_refseq, width, color='#FF8F33', edgecolor=color_refseq, linewidth=1)\n",
    "p2 = ax1.bar(ind+width, percs_ensembl,  width, color='#3390E8', edgecolor=color_ensembl, linewidth=1)\n",
    "\n",
    "ax1.set_ylabel('Fraction of complex LSVs', size=16)\n",
    "plt.title('Effect of annotation DB \\non fraction of complex LSVs ', size=20)\n",
    "plt.ylim([0,1])\n",
    "plt.xticks(ind+width, names, size=12)\n",
    "plt.legend( (p1[0], p2[0]), ('Refseq', 'Ensembl'), loc=2 )\n",
    "\n",
    "# plt.savefig(\"%s/figure3B_bottom.pdf\"% PLOTPATH, width=300, height=300, dpi=200)\n",
    "# plt.clf()\n",
    "plt.show()"
   ]
  },
  {
   "cell_type": "code",
   "execution_count": null,
   "metadata": {
    "collapsed": true
   },
   "outputs": [],
   "source": []
  }
 ],
 "metadata": {
  "kernelspec": {
   "display_name": "Python 2",
   "language": "python",
   "name": "python2"
  },
  "language_info": {
   "codemirror_mode": {
    "name": "ipython",
    "version": 2
   },
   "file_extension": ".py",
   "mimetype": "text/x-python",
   "name": "python",
   "nbconvert_exporter": "python",
   "pygments_lexer": "ipython2",
   "version": "2.7.5"
  }
 },
 "nbformat": 4,
 "nbformat_minor": 0
}
